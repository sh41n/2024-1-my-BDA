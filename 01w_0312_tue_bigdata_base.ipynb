{
  "nbformat": 4,
  "nbformat_minor": 0,
  "metadata": {
    "colab": {
      "provenance": [],
      "authorship_tag": "ABX9TyN1rAj3oO8mQ3aSgWylLg6H",
      "include_colab_link": true
    },
    "kernelspec": {
      "name": "python3",
      "display_name": "Python 3"
    },
    "language_info": {
      "name": "python"
    }
  },
  "cells": [
    {
      "cell_type": "markdown",
      "metadata": {
        "id": "view-in-github",
        "colab_type": "text"
      },
      "source": [
        "<a href=\"https://colab.research.google.com/github/sh41n/2024-1-my-BDA/blob/main/01w_0312_tue_bigdata_base.ipynb\" target=\"_parent\"><img src=\"https://colab.research.google.com/assets/colab-badge.svg\" alt=\"Open In Colab\"/></a>"
      ]
    },
    {
      "cell_type": "code",
      "execution_count": null,
      "metadata": {
        "id": "uAXNSNtRJ80P"
      },
      "outputs": [],
      "source": []
    },
    {
      "cell_type": "markdown",
      "source": [
        "# 빅데이터 분석 프로그래밍\n",
        "\n"
      ],
      "metadata": {
        "id": "-aYkxczELFq4"
      }
    },
    {
      "cell_type": "markdown",
      "source": [
        "# 01주 2024-0312-화"
      ],
      "metadata": {
        "id": "Qz4nAwy0LNk_"
      }
    },
    {
      "cell_type": "markdown",
      "source": [
        "# 파이썬 설치 확인\n"
      ],
      "metadata": {
        "id": "aJq7fObOLSMD"
      }
    },
    {
      "cell_type": "code",
      "source": [
        "import sys\n",
        "sys version\n"
      ],
      "metadata": {
        "colab": {
          "base_uri": "https://localhost:8080/",
          "height": 110
        },
        "id": "flAKqs83LS7m",
        "outputId": "d92a105f-3cbe-4926-98e6-31e32664d78e"
      },
      "execution_count": null,
      "outputs": [
        {
          "output_type": "error",
          "ename": "SyntaxError",
          "evalue": "invalid syntax (<ipython-input-1-c0fde57fa8bb>, line 2)",
          "traceback": [
            "\u001b[0;36m  File \u001b[0;32m\"<ipython-input-1-c0fde57fa8bb>\"\u001b[0;36m, line \u001b[0;32m2\u001b[0m\n\u001b[0;31m    sys version\u001b[0m\n\u001b[0m        ^\u001b[0m\n\u001b[0;31mSyntaxError\u001b[0m\u001b[0;31m:\u001b[0m invalid syntax\n"
          ]
        }
      ]
    },
    {
      "cell_type": "code",
      "source": [
        "import site\n",
        "site.getsitepackages()"
      ],
      "metadata": {
        "colab": {
          "base_uri": "https://localhost:8080/"
        },
        "id": "Atr1ySd5LitD",
        "outputId": "85ebbb97-c3b8-43a0-e30a-d2cc7f71bf97"
      },
      "execution_count": null,
      "outputs": [
        {
          "output_type": "execute_result",
          "data": {
            "text/plain": [
              "['/usr/local/lib/python3.10/dist-packages',\n",
              " '/usr/lib/python3/dist-packages',\n",
              " '/usr/lib/python3.10/dist-packages']"
            ]
          },
          "metadata": {},
          "execution_count": 2
        }
      ]
    },
    {
      "cell_type": "code",
      "source": [
        "import numpy as np\n",
        "import pandas as pd\n"
      ],
      "metadata": {
        "id": "uVu4mT5lLpzS"
      },
      "execution_count": null,
      "outputs": []
    }
  ]
}